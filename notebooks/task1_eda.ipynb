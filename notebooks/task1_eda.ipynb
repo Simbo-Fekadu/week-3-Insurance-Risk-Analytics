{
 "cells": [
  {
   "cell_type": "code",
   "execution_count": null,
   "id": "145a1d4d",
   "metadata": {},
   "outputs": [],
   "source": [
    "import pandas as pd\n",
    "import numpy as np\n",
    "import matplotlib.pyplot as plt\n",
    "import seaborn as sns\n",
    "sns.set_style(\"whitegrid\")\n",
    "# Load .txt file (adjust sep if needed: ',' for CSV, '\\t' for tab, '|' for pipe)\n",
    "df = pd.read_csv('../data/MachineLearningRating_v3.txt', sep='|')\n"
   ]
  },
  {
   "cell_type": "code",
   "execution_count": null,
   "id": "d13cc171",
   "metadata": {},
   "outputs": [],
   "source": [
    "# 1. Descriptive Stats\n",
    "numerical_cols = ['TotalPremium', 'TotalClaims', 'CustomValueEstimate']\n",
    "print(\"Descriptive Stats:\")\n",
    "print(df[numerical_cols].describe())\n",
    "print(\"\\nData Types:\")\n",
    "print(df.dtypes)\n",
    "print(\"\\nMissing Values:\")\n",
    "print(df.isnull().sum())"
   ]
  },
  {
   "cell_type": "code",
   "execution_count": null,
   "id": "6ed1530f",
   "metadata": {},
   "outputs": [],
   "source": [
    "# 2. Univariate Analysis\n",
    "plt.figure(figsize=(15, 5))\n",
    "for i, col in enumerate(numerical_cols, 1):\n",
    "    plt.subplot(1, 3, i)\n",
    "    sns.histplot(df[col], kde=True)\n",
    "    plt.title(f'{col} Distribution')\n",
    "plt.tight_layout()\n",
    "plt.savefig('../docs/histograms.png')\n",
    "plt.show()"
   ]
  },
  {
   "cell_type": "code",
   "execution_count": null,
   "id": "6461ed2c",
   "metadata": {},
   "outputs": [],
   "source": [
    "# 3. Categorical Counts\n",
    "categorical_cols = ['Province', 'VehicleType', 'Gender']\n",
    "plt.figure(figsize=(15, 5))\n",
    "for i, col in enumerate(categorical_cols, 1):\n",
    "    plt.subplot(1, 3, i)\n",
    "    sns.countplot(data=df, x=col)\n",
    "    plt.title(f'{col} Count')\n",
    "    plt.xticks(rotation=45)\n",
    "plt.tight_layout()\n",
    "plt.savefig('../docs/bar_charts.png')\n",
    "plt.show()"
   ]
  },
  {
   "cell_type": "code",
   "execution_count": null,
   "id": "96ea3c19",
   "metadata": {},
   "outputs": [],
   "source": [
    "# 4. Loss Ratio Analysis\n",
    "df['LossRatio'] = df['TotalClaims'] / df['TotalPremium']\n",
    "for col in categorical_cols:\n",
    "    plt.figure(figsize=(10, 6))\n",
    "    sns.boxplot(data=df, x=col, y='LossRatio')\n",
    "    plt.title(f'Loss Ratio by {col}')\n",
    "    plt.xticks(rotation=45)\n",
    "    plt.savefig(f'../docs/loss_ratio_{col.lower()}.png')\n",
    "    plt.show()"
   ]
  },
  {
   "cell_type": "code",
   "execution_count": null,
   "id": "18bba8f3",
   "metadata": {},
   "outputs": [],
   "source": [
    "# 5. Outliers\n",
    "plt.figure(figsize=(15, 5))\n",
    "for i, col in enumerate(numerical_cols, 1):\n",
    "    plt.subplot(1, 3, i)\n",
    "    sns.boxplot(data=df, y=col)\n",
    "    plt.title(f'{col} Boxplot')\n",
    "plt.tight_layout()\n",
    "plt.savefig('../docs/boxplots.png')\n",
    "plt.show()"
   ]
  },
  {
   "cell_type": "code",
   "execution_count": null,
   "id": "8a7ee039",
   "metadata": {},
   "outputs": [],
   "source": [
    "# 6. Temporal Trends\n",
    "df['TransactionMonth'] = pd.to_datetime(df['TransactionMonth'])\n",
    "df['YearMonth'] = df['TransactionMonth'].dt.to_period('M')\n",
    "claim_freq = df.groupby('YearMonth')['TotalClaims'].count() / df.groupby('YearMonth').size()\n",
    "claim_severity = df[df['TotalClaims'] > 0].groupby('YearMonth')['TotalClaims'].mean()\n",
    "plt.figure(figsize=(12, 6))\n",
    "claim_freq.plot(label='Claim Frequency')\n",
    "claim_severity.plot(secondary_y=True, label='Claim Severity')\n",
    "plt.title('Claim Frequency and Severity Over Time')\n",
    "plt.legend()\n",
    "plt.savefig('../docs/temporal_trends.png')\n",
    "plt.show()\n"
   ]
  },
  {
   "cell_type": "code",
   "execution_count": null,
   "id": "7009f156",
   "metadata": {},
   "outputs": [],
   "source": [
    "\n",
    "# 7. Claims by Make\n",
    "claims_by_make = df.groupby('make')['TotalClaims'].mean().sort_values(ascending=False)\n",
    "plt.figure(figsize=(12, 6))\n",
    "claims_by_make.head(10).plot(kind='bar', color='red', alpha=0.5, label='Top 10')\n",
    "claims_by_make.tail(10).plot(kind='bar', color='green', alpha=0.5, label='Bottom 10')\n",
    "plt.title('Average Claims by Vehicle Make')\n",
    "plt.legend()\n",
    "plt.savefig('../docs/claims_by_make.png')\n",
    "plt.show()"
   ]
  }
 ],
 "metadata": {
  "kernelspec": {
   "display_name": "venv",
   "language": "python",
   "name": "python3"
  },
  "language_info": {
   "codemirror_mode": {
    "name": "ipython",
    "version": 3
   },
   "file_extension": ".py",
   "mimetype": "text/x-python",
   "name": "python",
   "nbconvert_exporter": "python",
   "pygments_lexer": "ipython3",
   "version": "3.12.4"
  }
 },
 "nbformat": 4,
 "nbformat_minor": 5
}
